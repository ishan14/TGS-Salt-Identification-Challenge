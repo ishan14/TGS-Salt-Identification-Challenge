{
  "nbformat": 4,
  "nbformat_minor": 0,
  "metadata": {
    "kernelspec": {
      "language": "python",
      "display_name": "Python 3",
      "name": "python3"
    },
    "language_info": {
      "name": "python",
      "version": "3.7.10",
      "mimetype": "text/x-python",
      "codemirror_mode": {
        "name": "ipython",
        "version": 3
      },
      "pygments_lexer": "ipython3",
      "nbconvert_exporter": "python",
      "file_extension": ".py"
    },
    "colab": {
      "name": "TGS - Salt Identification.ipynb",
      "provenance": [],
      "collapsed_sections": []
    },
    "accelerator": "GPU"
  },
  "cells": [
    {
      "cell_type": "markdown",
      "metadata": {
        "id": "EbTLJ_8cN1KC"
      },
      "source": [
        "### Importing data from Google Drive"
      ]
    },
    {
      "cell_type": "code",
      "metadata": {
        "colab": {
          "base_uri": "https://localhost:8080/"
        },
        "id": "JZBJKLDjHu2J",
        "outputId": "beb77310-9c1d-4f42-fdf7-fc7d619c9549"
      },
      "source": [
        "from google.colab import drive\n",
        "drive.mount('/content/gdrive')"
      ],
      "execution_count": null,
      "outputs": [
        {
          "output_type": "stream",
          "text": [
            "Mounted at /content/gdrive\n"
          ],
          "name": "stdout"
        }
      ]
    },
    {
      "cell_type": "code",
      "metadata": {
        "colab": {
          "base_uri": "https://localhost:8080/"
        },
        "id": "8j7hcsC3H4SY",
        "outputId": "37eb2ef3-1473-4657-9a33-14fdf0f92f69"
      },
      "source": [
        "cd gdrive/MyDrive/sgmoid/"
      ],
      "execution_count": null,
      "outputs": [
        {
          "output_type": "stream",
          "text": [
            "/content/gdrive/MyDrive/sgmoid\n"
          ],
          "name": "stdout"
        }
      ]
    },
    {
      "cell_type": "code",
      "metadata": {
        "id": "kLiYt3mkH8sp"
      },
      "source": [
        "!unzip train.zip\n",
        "!mkdir train\n",
        "!mv images masks train "
      ],
      "execution_count": null,
      "outputs": []
    },
    {
      "cell_type": "code",
      "metadata": {
        "trusted": true,
        "colab": {
          "base_uri": "https://localhost:8080/"
        },
        "id": "ZJz6YfCDHpa7",
        "outputId": "e4e9b83d-121a-4b31-ddbf-6d17662b6abe"
      },
      "source": [
        "!pip install torch-summary"
      ],
      "execution_count": null,
      "outputs": [
        {
          "output_type": "stream",
          "text": [
            "Collecting torch-summary\n",
            "  Downloading https://files.pythonhosted.org/packages/ca/db/93d18c84f73b214acfa4d18051d6f4263eee3e044c408928e8abe941a22c/torch_summary-1.4.5-py3-none-any.whl\n",
            "Installing collected packages: torch-summary\n",
            "Successfully installed torch-summary-1.4.5\n"
          ],
          "name": "stdout"
        }
      ]
    },
    {
      "cell_type": "markdown",
      "metadata": {
        "id": "5h2LLGeNN6zt"
      },
      "source": [
        "### Importing libraries "
      ]
    },
    {
      "cell_type": "code",
      "metadata": {
        "trusted": true,
        "id": "jYxUj1PyHpa8"
      },
      "source": [
        "import matplotlib.pyplot as plt\n",
        "from PIL import Image\n",
        "from skimage.transform import resize\n",
        "import numpy as np\n",
        "import pandas as pd\n",
        "import tqdm\n",
        "import os\n",
        "import time\n",
        "import cv2\n",
        "import glob\n",
        "import random\n",
        "import zipfile\n",
        "import torch\n",
        "import torch.nn as nn\n",
        "import torch.optim as optim\n",
        "import torch.nn.functional as F\n",
        "from torch.utils.data import Dataset\n",
        "import torchvision\n",
        "from torchsummary import summary\n",
        "from torchvision import transforms, models, utils\n",
        "from torch.utils.data.sampler import SubsetRandomSampler\n",
        "from sklearn.utils import shuffle"
      ],
      "execution_count": null,
      "outputs": []
    },
    {
      "cell_type": "markdown",
      "metadata": {
        "id": "sJBa255xOMnn"
      },
      "source": [
        "### Processing Data"
      ]
    },
    {
      "cell_type": "code",
      "metadata": {
        "trusted": true,
        "id": "h9Or3u22Hpa9"
      },
      "source": [
        "train_csv = pd.read_csv('train.csv')\n",
        "train_csv['rle_mask'].fillna(-1, inplace = True)\n",
        "train_csv['class'] = train_csv.apply(lambda x: x.rle_mask != -1, axis = 1)\n",
        "train_labelled = train_csv.loc[train_csv['class'] == True].reset_index(drop=True)\n",
        "train_unlabelled = train_csv.loc[train_csv['class'] == False]\n",
        "depth_csv = pd.read_csv('depths.csv')\n",
        "short_unlabelled = train_unlabelled.iloc[:781,:].reset_index(drop=True)\n",
        "train_short_csv = pd.concat([train_labelled, short_unlabelled])\n",
        "train_short_csv = shuffle(train_short_csv).reset_index(drop=True)"
      ],
      "execution_count": null,
      "outputs": []
    },
    {
      "cell_type": "code",
      "metadata": {
        "trusted": true,
        "id": "i6mlcn8bHpa9"
      },
      "source": [
        "def load_image(path, mask = False):\n",
        "    img = cv2.imread(str(path))\n",
        "    img = cv2.cvtColor(img, cv2.COLOR_BGR2RGB)\n",
        "    \n",
        "    height, width, _ = img.shape\n",
        "\n",
        "    # Padding in needed for UNet models because they need image size to be divisible by 32 \n",
        "    if height % 32 == 0:\n",
        "        y_min_pad = 0\n",
        "        y_max_pad = 0\n",
        "    else:\n",
        "        y_pad = 32 - height % 32\n",
        "        y_min_pad = int(y_pad / 2)\n",
        "        y_max_pad = y_pad - y_min_pad\n",
        "        \n",
        "    if width % 32 == 0:\n",
        "        x_min_pad = 0\n",
        "        x_max_pad = 0\n",
        "    else:\n",
        "        x_pad = 32 - width % 32\n",
        "        x_min_pad = int(x_pad / 2)\n",
        "        x_max_pad = x_pad - x_min_pad\n",
        "    \n",
        "    img = cv2.copyMakeBorder(img, y_min_pad, y_max_pad, x_min_pad, x_max_pad, cv2.BORDER_REFLECT_101)\n",
        "    if mask:\n",
        "        # Convert mask to 0 and 1 format\n",
        "        img = img[:, :, 0:1] // 255\n",
        "        return torch.from_numpy(np.transpose(img, (2, 0, 1)).astype('float32'))\n",
        "        #return img.astype('float32')\n",
        "    else:\n",
        "        img = img / 255.0\n",
        "        return torch.from_numpy(np.transpose(img, (2, 0, 1)).astype('float32'))\n",
        "        #return img.astype('float32')"
      ],
      "execution_count": null,
      "outputs": []
    },
    {
      "cell_type": "code",
      "metadata": {
        "trusted": true,
        "id": "8A4SJTFQHpa-"
      },
      "source": [
        "train_transform = transforms.RandomApply([transforms.RandomRotation(degrees=10),\n",
        "                                          transforms.RandomHorizontalFlip()], p=1.0)\n",
        "                                          #transforms.ColorJitter(0.4,0.4,0.4)\n",
        "                                          #transforms.ToTensor()\n",
        "\n",
        "#train_transform = transforms.RandomApply([transforms.RandomRotation(degrees=10),\n",
        "#                                          transforms.RandomHorizontalFlip()], p=1.0)\n",
        "class salt(Dataset):\n",
        "  def __init__(self, csv_file, train_dir, transform=None):\n",
        "    self.train_dir = train_dir\n",
        "    self.csv_file = csv_file\n",
        "    self.transform = transform\n",
        "\n",
        "    self.target_size = 128\n",
        "\n",
        "  def __len__(self):\n",
        "    return len(self.csv_file)\n",
        "\n",
        "  def __getitem__(self, idx):\n",
        "    if torch.is_tensor(idx):\n",
        "      idx = idx.tolist()\n",
        "    image_id = self.csv_file.loc[idx, 'id']\n",
        "    image_folder = os.path.join(self.train_dir, \"images\")\n",
        "    image_path = os.path.join(image_folder, image_id + \".png\")\n",
        "    image = load_image(image_path)\n",
        "    mask_folder = os.path.join(self.train_dir, \"masks\")\n",
        "    mask_path = os.path.join(mask_folder, image_id + \".png\")\n",
        "    mask = load_image(mask_path, mask = True)\n",
        "\n",
        "    #sample = {'image':image, 'mask':mask}\n",
        "    if self.transform:\n",
        "        #sample = self.transform(sample)\n",
        "        #image = transforms.ToPILImage()(np.uint8(image))\n",
        "        #mask = transforms.ToPILImage()(np.uint8(mask))\n",
        "        #plt.imshow(image)\n",
        "        #(image, mask) = self.transform([image, mask])\n",
        "        image = self.transform(image)\n",
        "        mask = self.transform(mask)\n",
        "    return image, mask"
      ],
      "execution_count": null,
      "outputs": []
    },
    {
      "cell_type": "code",
      "metadata": {
        "trusted": true,
        "id": "2FeJwyXnHpa-"
      },
      "source": [
        "train1 = salt(train_short_csv,'./train', transform=None)\n",
        "train2 = salt(train_short_csv,'./train', transform=train_transform)\n",
        "dataset = torch.utils.data.ConcatDataset([train1, train2])\n",
        "#dataset = salt(train_csv,'./train', transform=None)\n",
        "\n",
        "batch_size = 16\n",
        "validation_split = .15\n",
        "shuffle_dataset = True\n",
        "random_seed= 42\n",
        "dataset_size = len(dataset)\n",
        "indices = list(range(dataset_size))\n",
        "split = int(np.floor(validation_split * dataset_size))\n",
        "if shuffle_dataset :\n",
        "    np.random.seed(random_seed)\n",
        "    np.random.shuffle(indices)\n",
        "train_indices, val_indices = indices[split:], indices[:split]\n",
        "\n",
        "# Creating PT data samplers and loaders:\n",
        "train_sampler = SubsetRandomSampler(train_indices)\n",
        "valid_sampler = SubsetRandomSampler(val_indices)\n",
        "\n",
        "train_loader = torch.utils.data.DataLoader(dataset, batch_size=batch_size, \n",
        "                                           sampler=train_sampler)\n",
        "validation_loader = torch.utils.data.DataLoader(dataset, batch_size=batch_size,\n",
        "                                                sampler=valid_sampler)\n"
      ],
      "execution_count": null,
      "outputs": []
    },
    {
      "cell_type": "code",
      "metadata": {
        "colab": {
          "base_uri": "https://localhost:8080/",
          "height": 285
        },
        "id": "XDn01LmdvbA7",
        "outputId": "ec477302-b598-4cf9-f773-c1002e76138c"
      },
      "source": [
        "plt.imshow(np.moveaxis(train2[15][0].cpu().numpy(),0,-1))"
      ],
      "execution_count": null,
      "outputs": [
        {
          "output_type": "execute_result",
          "data": {
            "text/plain": [
              "<matplotlib.image.AxesImage at 0x7f3ca9af1dd0>"
            ]
          },
          "metadata": {
            "tags": []
          },
          "execution_count": 27
        },
        {
          "output_type": "display_data",
          "data": {
            "image/png": "[encoded data removed]",
            "text/plain": [
              "<Figure size 432x288 with 1 Axes>"
            ]
          },
          "metadata": {
            "tags": [],
            "needs_background": "light"
          }
        }
      ]
    },
    {
      "cell_type": "markdown",
      "metadata": {
        "id": "QJ_org9XHpa_"
      },
      "source": [
        "### VGG16 encoder"
      ]
    },
    {
      "cell_type": "code",
      "metadata": {
        "trusted": true,
        "id": "BNbW-99jHpa_"
      },
      "source": [
        "def conv3x3(in_, out):\n",
        "    return nn.Conv2d(in_, out, 3, padding=1)\n",
        "\n",
        "class ConvRelu(nn.Module):\n",
        "    def __init__(self, in_: int, out: int):\n",
        "        super(ConvRelu, self).__init__()\n",
        "        self.conv = conv3x3(in_, out)\n",
        "        self.activation = nn.ReLU(inplace=True)\n",
        "\n",
        "    def forward(self, x):\n",
        "        x = self.conv(x)\n",
        "        x = self.activation(x)\n",
        "        return x\n",
        "class DecoderBlock(nn.Module):\n",
        "  def __init__(self, in_channels, middle_channels, out_channels, is_deconv=True):\n",
        "    super(DecoderBlock, self).__init__()\n",
        "    self.in_channels = in_channels\n",
        "\n",
        "    if is_deconv:\n",
        "      self.block = nn.Sequential(ConvRelu(in_channels, middle_channels),\n",
        "                                 nn.ConvTranspose2d(middle_channels, out_channels, kernel_size=4, stride=2,padding=1),\n",
        "                                 nn.ReLU(inplace=True))\n",
        "    else:\n",
        "      self.block = nn.Sequential(nn.Upsample(scale_factor=2, mode='bilinear'),\n",
        "                                 ConvRelu(in_channels, middle_channels),\n",
        "                                 ConvRelu(middle_channels, out_channels))\n",
        "\n",
        "  def forward(self, x):\n",
        "    return self.block(x)\n",
        "\n",
        "\n",
        "class VGG16(nn.Module):\n",
        "  def __init__(self, num_classes=1, num_filters=32, pretrained=True):\n",
        "    \"\"\"\n",
        "    :param num_classes:\n",
        "    :param num_filters:\n",
        "    :param pretrained:\n",
        "        False - no pre-trained network used\n",
        "        True - encoder pre-trained with VGG11\n",
        "    \"\"\"\n",
        "    super().__init__()\n",
        "    self.num_classes = num_classes\n",
        "    self.pool = nn.MaxPool2d(2, 2)\n",
        "    self.encoder = torchvision.models.vgg16(pretrained=pretrained).features\n",
        "    self.relu = nn.ReLU(inplace=True)\n",
        "    self.conv1 = nn.Sequential(self.encoder[0],\n",
        "                               self.relu,\n",
        "                               self.encoder[2],\n",
        "                               self.relu)\n",
        "    self.conv2 = nn.Sequential(self.encoder[5],\n",
        "                               self.relu,\n",
        "                               self.encoder[7],\n",
        "                               self.relu)\n",
        "    self.conv3 = nn.Sequential(self.encoder[10],\n",
        "                               self.relu,\n",
        "                               self.encoder[12],\n",
        "                               self.relu,\n",
        "                               self.encoder[14],\n",
        "                               self.relu)\n",
        "    self.conv4 = nn.Sequential(self.encoder[17],\n",
        "                               self.relu,\n",
        "                               self.encoder[19],\n",
        "                               self.relu,\n",
        "                               self.encoder[21],\n",
        "                               self.relu)\n",
        "    self.conv5 = nn.Sequential(self.encoder[24],\n",
        "                               self.relu,\n",
        "                               self.encoder[26],\n",
        "                               self.relu,\n",
        "                               self.encoder[28],\n",
        "                               self.relu)\n",
        "    self.center = DecoderBlock(512, num_filters * 8 * 2, num_filters * 8)\n",
        "    self.dec5 = DecoderBlock(512 + num_filters * 8, num_filters * 8 * 2, num_filters * 8)\n",
        "    self.dec4 = DecoderBlock(512 + num_filters * 8, num_filters * 8 * 2, num_filters * 8)\n",
        "    self.dec3 = DecoderBlock(256 + num_filters * 8, num_filters * 4 * 2, num_filters * 2)\n",
        "    self.dec2 = DecoderBlock(128 + num_filters * 2, num_filters * 2 * 2, num_filters)\n",
        "    self.dec1 = ConvRelu(64 + num_filters, num_filters)\n",
        "    self.final = nn.Conv2d(num_filters, num_classes, kernel_size=1)\n",
        "\n",
        "  def forward(self, x):\n",
        "    conv1 = self.conv1(x)\n",
        "    conv2 = self.conv2(self.pool(conv1))\n",
        "    conv3 = self.conv3(self.pool(conv2))\n",
        "    conv4 = self.conv4(self.pool(conv3))\n",
        "    conv5 = self.conv5(self.pool(conv4))\n",
        "\n",
        "    center = self.center(self.pool(conv5))\n",
        "\n",
        "    dec5 = self.dec5(torch.cat([center, conv5], 1))\n",
        "    dec4 = self.dec4(torch.cat([dec5, conv4], 1))\n",
        "    dec3 = self.dec3(torch.cat([dec4, conv3], 1))\n",
        "    dec2 = self.dec2(torch.cat([dec3, conv2], 1))\n",
        "    dec1 = self.dec1(torch.cat([dec2, conv1], 1))\n",
        "    \n",
        "    return torch.sigmoid(self.final(dec1))"
      ],
      "execution_count": null,
      "outputs": []
    },
    {
      "cell_type": "markdown",
      "metadata": {
        "id": "R33wQ4HPHpbC"
      },
      "source": [
        "### Resnet encoder"
      ]
    },
    {
      "cell_type": "code",
      "metadata": {
        "trusted": true,
        "id": "7hK7CSjQHpbD"
      },
      "source": [
        "class ResNet34(nn.Module):\n",
        "    def __init__(self, num_classes=1, num_channels=3, pretrained=True):\n",
        "        super().__init__()\n",
        "        assert num_channels == 3\n",
        "        self.num_classes = num_classes\n",
        "        filters = [64, 128, 256, 512]\n",
        "        resnet = models.resnet34(pretrained=pretrained)\n",
        "\n",
        "        self.firstconv = resnet.conv1\n",
        "        self.firstbn = resnet.bn1\n",
        "        self.firstrelu = resnet.relu\n",
        "        self.firstmaxpool = resnet.maxpool\n",
        "        self.encoder1 = resnet.layer1\n",
        "        self.encoder2 = resnet.layer2\n",
        "        self.encoder3 = resnet.layer3\n",
        "        self.encoder4 = resnet.layer4\n",
        "\n",
        "        # Decoder\n",
        "        self.decoder4 = DecoderBlockLinkNet(filters[3], filters[2])\n",
        "        self.decoder3 = DecoderBlockLinkNet(filters[2], filters[1])\n",
        "        self.decoder2 = DecoderBlockLinkNet(filters[1], filters[0])\n",
        "        self.decoder1 = DecoderBlockLinkNet(filters[0], filters[0])\n",
        "\n",
        "        # Final Classifier\n",
        "        self.finaldeconv1 = nn.ConvTranspose2d(filters[0], 32, 3, stride=2)\n",
        "        self.finalrelu1 = nn.ReLU(inplace=True)\n",
        "        self.finalconv2 = nn.Conv2d(32, 32, 3)\n",
        "        self.finalrelu2 = nn.ReLU(inplace=True)\n",
        "        self.finalconv3 = nn.Conv2d(32, num_classes, 2, padding=1)\n",
        "\n",
        "    # noinspection PyCallingNonCallable\n",
        "    def forward(self, x):\n",
        "        # Encoder\n",
        "        x = self.firstconv(x)\n",
        "        x = self.firstbn(x)\n",
        "        x = self.firstrelu(x)\n",
        "        x = self.firstmaxpool(x)\n",
        "        e1 = self.encoder1(x)\n",
        "        e2 = self.encoder2(e1)\n",
        "        e3 = self.encoder3(e2)\n",
        "        e4 = self.encoder4(e3)\n",
        "\n",
        "        # Decoder with Skip Connections\n",
        "        d4 = self.decoder4(e4) + e3\n",
        "        d3 = self.decoder3(d4) + e2\n",
        "        d2 = self.decoder2(d3) + e1\n",
        "        d1 = self.decoder1(d2)\n",
        "\n",
        "        # Final Classification\n",
        "        f1 = self.finaldeconv1(d1)\n",
        "        f2 = self.finalrelu1(f1)\n",
        "        f3 = self.finalconv2(f2)\n",
        "        f4 = self.finalrelu2(f3)\n",
        "        f5 = self.finalconv3(f4)\n",
        "\n",
        "        if self.num_classes > 1:\n",
        "            x_out = F.log_softmax(f5, dim=1)\n",
        "        else:\n",
        "            x_out = f5\n",
        "        return torch.sigmoid(x_out)\n",
        "\n",
        "class DecoderBlockLinkNet(nn.Module):\n",
        "    def __init__(self, in_channels, n_filters):\n",
        "        super().__init__()\n",
        "\n",
        "        self.relu = nn.ReLU(inplace=True)\n",
        "\n",
        "        # B, C, H, W -> B, C/4, H, W\n",
        "        self.conv1 = nn.Conv2d(in_channels, in_channels // 4, 1)\n",
        "        self.norm1 = nn.BatchNorm2d(in_channels // 4)\n",
        "\n",
        "        # B, C/4, H, W -> B, C/4, 2 * H, 2 * W\n",
        "        self.deconv2 = nn.ConvTranspose2d(in_channels // 4, in_channels // 4, kernel_size=4,\n",
        "                                          stride=2, padding=1, output_padding=0)\n",
        "        self.norm2 = nn.BatchNorm2d(in_channels // 4)\n",
        "\n",
        "        # B, C/4, H, W -> B, C, H, W\n",
        "        self.conv3 = nn.Conv2d(in_channels // 4, n_filters, 1)\n",
        "        self.norm3 = nn.BatchNorm2d(n_filters)\n",
        "\n",
        "    def forward(self, x):\n",
        "        x = self.conv1(x)\n",
        "        x = self.norm1(x)\n",
        "        x = self.relu(x)\n",
        "        x = self.deconv2(x)\n",
        "        x = self.norm2(x)\n",
        "        x = self.relu(x)\n",
        "        x = self.conv3(x)\n",
        "        x = self.norm3(x)\n",
        "        x = self.relu(x)\n",
        "        return x"
      ],
      "execution_count": null,
      "outputs": []
    },
    {
      "cell_type": "code",
      "metadata": {
        "trusted": true,
        "id": "SxPjfh4bHpbD"
      },
      "source": [
        "class LossBinary:\n",
        "  \"\"\"\n",
        "  Loss defined as \\alpha BCE - (1 - \\alpha) SoftJaccard\n",
        "  \"\"\"\n",
        "\n",
        "  def __init__(self, jaccard_weight=0):\n",
        "    #self.nll_loss = nn.BCEWithLogitsLoss()\n",
        "    self.nll_loss = nn.BCELoss()\n",
        "    self.jaccard_weight = jaccard_weight\n",
        "\n",
        "  def __call__(self, outputs, targets):\n",
        "    loss = (1 - self.jaccard_weight) * self.nll_loss(outputs, targets)\n",
        "\n",
        "    if self.jaccard_weight:\n",
        "      eps = 1e-15\n",
        "      jaccard_target = (targets == 1).float()\n",
        "      jaccard_output = torch.sigmoid(outputs)\n",
        "\n",
        "      intersection = (jaccard_output * jaccard_target).sum()\n",
        "      union = jaccard_output.sum() + jaccard_target.sum()\n",
        "\n",
        "      loss -= self.jaccard_weight * torch.log((intersection + eps) / (union - intersection + eps))\n",
        "    return loss"
      ],
      "execution_count": null,
      "outputs": []
    },
    {
      "cell_type": "code",
      "metadata": {
        "trusted": true,
        "id": "6LxXAwH2HpbE"
      },
      "source": [
        "device = torch.device(\"cuda\" if torch.cuda.is_available() else \"cpu\")"
      ],
      "execution_count": null,
      "outputs": []
    },
    {
      "cell_type": "markdown",
      "metadata": {
        "id": "5SWjbjtZRD6w"
      },
      "source": [
        "### Training "
      ]
    },
    {
      "cell_type": "code",
      "metadata": {
        "trusted": true,
        "id": "B6LayIcPHpbE"
      },
      "source": [
        "model = VGG16().to(device)\n",
        "optimizer = optim.AdamW(model.parameters(), lr=0.0001)\n",
        "scheduler = optim.lr_scheduler.ReduceLROnPlateau(optimizer, patience=4, verbose=True)\n",
        "criterion = torch.nn.BCELoss()"
      ],
      "execution_count": null,
      "outputs": []
    },
    {
      "cell_type": "code",
      "metadata": {
        "trusted": true,
        "id": "kGp4BPSDHpbF"
      },
      "source": [
        "def train(model, criterion, train_loader, init_optimizer, epochs):\n",
        "    model_name = 'VGG16_Binaryloss_adamw_wtransform'\n",
        "    trial = '1'\n",
        "    prev_epoch_save = ''\n",
        "    optimizer = init_optimizer\n",
        "    mean_loss_list = []\n",
        "    for epoch in range(epochs):\n",
        "        start = time.time()\n",
        "        model.train()\n",
        "        tq = tqdm.notebook.tqdm(total=(len(train_loader) * 16))\n",
        "        tq.set_description('Epoch {}, lr {}'.format(epoch, 0.0001))\n",
        "        losses = []\n",
        "        mean_loss = 0\n",
        "        for i, (inputs, targets) in enumerate(train_loader):\n",
        "            inputs = inputs.to(device)\n",
        "            targets = targets.to(device)\n",
        "            outputs = model(inputs)\n",
        "            loss = criterion(outputs, targets)\n",
        "            optimizer.zero_grad()\n",
        "            batch_size = inputs.size(0)\n",
        "            loss.backward()\n",
        "            optimizer.step()\n",
        "            tq.update(batch_size)\n",
        "            losses.append(loss.item())\n",
        "            mean_loss = np.mean(losses)\n",
        "            tq.set_postfix(loss='{:.5f}'.format(mean_loss))\n",
        "\n",
        "        model.eval()\n",
        "        with torch.no_grad():\n",
        "            for i, (val_inputs, val_targets) in enumerate(validation_loader):\n",
        "                val_inputs = val_inputs.to(device)\n",
        "                val_targets = val_targets.to(device)\n",
        "                val_outputs = model(val_inputs)\n",
        "                val_loss = criterion(val_outputs, val_targets)\n",
        "                #mean_val_loss = np.mean(val_loss.item())\n",
        "                running_val_loss = val_loss.item() * val_inputs.shape[0]\n",
        "                \n",
        "        epoch_val_loss = running_val_loss / len(validation_loader)\n",
        "        scheduler.step(epoch_val_loss)\n",
        "        mean_loss_list.append(epoch_val_loss)\n",
        "        tq.close()\n",
        "        print(mean_loss_list)\n",
        "        if mean_loss_list[-1] == min(mean_loss_list):\n",
        "            print('yes')\n",
        "            if prev_epoch_save:\n",
        "                os.remove(prev_epoch_save)\n",
        "            best_epoch_save = f\"{model_name}_{trial}_epoch{epoch}.pth\"\n",
        "            torch.save({'epoch': epoch,\n",
        "                        'model_state_dict': model.state_dict(),\n",
        "                        'optimizer': optimizer.state_dict()},best_epoch_save)\n",
        "            prev_epoch_save = best_epoch_save\n",
        "    return "
      ],
      "execution_count": null,
      "outputs": []
    },
    {
      "cell_type": "code",
      "metadata": {
        "trusted": true,
        "id": "qo2aNBaBHpbF"
      },
      "source": [
        "train(model, criterion, train_loader, optimizer, 30)"
      ],
      "execution_count": null,
      "outputs": []
    },
    {
      "cell_type": "code",
      "metadata": {
        "trusted": true,
        "id": "kgbgGiWJHpbG"
      },
      "source": [
        "torch.save({'epoch': epoch,'model_state_dict': model.state_dict(),'optimizer': optimizer.state_dict()},model_name)"
      ],
      "execution_count": null,
      "outputs": []
    },
    {
      "cell_type": "markdown",
      "metadata": {
        "id": "k9Oeu9oYQ41x"
      },
      "source": [
        "### Testing and creating submission file"
      ]
    },
    {
      "cell_type": "code",
      "metadata": {
        "id": "uVi7KPqMxmhH"
      },
      "source": [
        "!unzip test.zip"
      ],
      "execution_count": null,
      "outputs": []
    },
    {
      "cell_type": "code",
      "metadata": {
        "id": "BqaQ1uMfxm0d"
      },
      "source": [
        "test_images = glob.glob('images/*')\n",
        "test_images.sort()\n",
        "df_test = pd.DataFrame(test_images, columns = ['image_path'])"
      ],
      "execution_count": null,
      "outputs": []
    },
    {
      "cell_type": "code",
      "metadata": {
        "id": "xHQC9tA5xt71"
      },
      "source": [
        "class salt_test(Dataset):\n",
        "  def __init__(self, test_data):\n",
        "    self.test_data = test_data\n",
        "    self.target_size = 128\n",
        "\n",
        "  def __len__(self):\n",
        "    return len(self.test_data)\n",
        "\n",
        "  def __getitem__(self, idx):\n",
        "    if torch.is_tensor(idx):\n",
        "      idx = idx.tolist()\n",
        "    image_path = test_images[idx]\n",
        "    image = load_image(image_path)\n",
        "    return image\n",
        "test = salt_test(test_images)\n",
        "test_loader = torch.utils.data.DataLoader(test, batch_size = 1)"
      ],
      "execution_count": null,
      "outputs": []
    },
    {
      "cell_type": "code",
      "metadata": {
        "id": "ZI4j5NText5S"
      },
      "source": [
        "test = salt_test(test_images)\n",
        "test_loader = torch.utils.data.DataLoader(test, batch_size=32, shuffle=False)"
      ],
      "execution_count": null,
      "outputs": []
    },
    {
      "cell_type": "code",
      "metadata": {
        "id": "ZSvVX7L0xt2b"
      },
      "source": [
        "checkpoint = torch.load('VGG16_Binaryloss_adamw_wtransform_1_epoch14.pth')\n",
        "model = VGG16().to(device)\n",
        "model.load_state_dict(checkpoint['model_state_dict'])"
      ],
      "execution_count": null,
      "outputs": []
    },
    {
      "cell_type": "code",
      "metadata": {
        "id": "isw8nYLVxtyS"
      },
      "source": [
        "pred = []\n",
        "model.eval()\n",
        "with torch.no_grad():\n",
        "    for i in range(len(df_test)):\n",
        "        img = load_image(df_test.loc[i,'image_path'])\n",
        "        img = torch.from_numpy(np.expand_dims(img, axis=0).astype('float32'))\n",
        "        img = img.to(device)\n",
        "        outputs = model(img)\n",
        "        outputs = outputs.cpu().detach().numpy()\n",
        "        outputs = np.moveaxis(outputs, 0, -1)\n",
        "        pred.append(outputs)\n",
        "        if i%100 ==0:\n",
        "            print(f\"done {i}\")\n",
        "        "
      ],
      "execution_count": null,
      "outputs": []
    },
    {
      "cell_type": "code",
      "metadata": {
        "id": "yJMLP7G9x2as"
      },
      "source": [
        "predictions = np.array(pred)"
      ],
      "execution_count": null,
      "outputs": []
    },
    {
      "cell_type": "code",
      "metadata": {
        "id": "WdaRozNIx2Wc"
      },
      "source": [
        "height, width = 101, 101\n",
        "\n",
        "if height % 32 == 0:\n",
        "    y_min_pad = 0\n",
        "    y_max_pad = 0\n",
        "else:\n",
        "    y_pad = 32 - height % 32\n",
        "    y_min_pad = int(y_pad / 2)\n",
        "    y_max_pad = y_pad - y_min_pad\n",
        "\n",
        "if width % 32 == 0:\n",
        "    x_min_pad = 0\n",
        "    x_max_pad = 0\n",
        "else:\n",
        "    x_pad = 32 - width % 32\n",
        "    x_min_pad = int(x_pad / 2)\n",
        "    x_max_pad = x_pad - x_min_pad"
      ],
      "execution_count": null,
      "outputs": []
    },
    {
      "cell_type": "code",
      "metadata": {
        "id": "rWU3xeLtx2QO"
      },
      "source": [
        "pp = predictions.squeeze()\n",
        "pp = pp[:, y_min_pad:128 - y_max_pad, x_min_pad:128 - x_max_pad]"
      ],
      "execution_count": null,
      "outputs": []
    },
    {
      "cell_type": "code",
      "metadata": {
        "id": "SsAGaQdUx6TS"
      },
      "source": [
        "def rle_encode(im):\n",
        "    '''\n",
        "    im: numpy array, 1 - mask, 0 - background\n",
        "    Returns run length as string formated\n",
        "    '''\n",
        "    pixels = im.flatten(order = 'F')\n",
        "    pixels = np.concatenate([[0], pixels, [0]])\n",
        "    runs = np.where(pixels[1:] != pixels[:-1])[0] + 1\n",
        "    runs[1::2] -= runs[::2]\n",
        "    return ' '.join(str(x) for x in runs)"
      ],
      "execution_count": null,
      "outputs": []
    },
    {
      "cell_type": "code",
      "metadata": {
        "id": "Y3wi07rBx6Q_"
      },
      "source": [
        "test_idx = [df_test.loc[idx,'image_path'][7:-4] for idx in range(len(df_test))]\n",
        "pred_dict={}\n",
        "for i, idx in enumerate(test_idx):\n",
        "    pred_dict[idx] = rle_encode(np.round(pp[i]))"
      ],
      "execution_count": null,
      "outputs": []
    },
    {
      "cell_type": "code",
      "metadata": {
        "id": "DCV85IJzx6Nk"
      },
      "source": [
        "submission = pd.DataFrame.from_dict(pred_dict, orient='index')\n",
        "submission.index.names = ['id']\n",
        "submission.columns = ['rle_mask']\n",
        "submission.to_csv('submission.csv')"
      ],
      "execution_count": null,
      "outputs": []
    },
    {
      "cell_type": "code",
      "metadata": {
        "id": "vDF1ybnpx6LN"
      },
      "source": [
        ""
      ],
      "execution_count": null,
      "outputs": []
    }
  ]
}